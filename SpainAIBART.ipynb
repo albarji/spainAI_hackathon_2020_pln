{
 "cells": [
  {
   "cell_type": "markdown",
   "metadata": {
    "id": "HBJngszbfKjt"
   },
   "source": [
    "# Spain AI hackathon notebook"
   ]
  },
  {
   "cell_type": "markdown",
   "metadata": {
    "id": "GwuaTAwtfS6w"
   },
   "source": [
    "## Prepare environment"
   ]
  },
  {
   "cell_type": "code",
   "execution_count": null,
   "metadata": {
    "id": "vnW_WxKkfA_q"
   },
   "outputs": [],
   "source": [
    "import transformers"
   ]
  },
  {
   "cell_type": "code",
   "execution_count": null,
   "metadata": {
    "colab": {
     "base_uri": "https://localhost:8080/"
    },
    "id": "MFWWDP3yuYxX",
    "outputId": "eaa2350c-314c-4826-a562-2caae51e2bf0"
   },
   "outputs": [],
   "source": [
    "!nvidia-smi"
   ]
  },
  {
   "cell_type": "markdown",
   "metadata": {
    "id": "o_KLU23jfVv3"
   },
   "source": [
    "## Prepare data"
   ]
  },
  {
   "cell_type": "code",
   "execution_count": null,
   "metadata": {
    "id": "a7fMpAkDfEWP"
   },
   "outputs": [],
   "source": [
    "import pandas as pd\n",
    "\n",
    "train = pd.read_csv(\"train.csv\")"
   ]
  },
  {
   "cell_type": "code",
   "execution_count": null,
   "metadata": {
    "colab": {
     "base_uri": "https://localhost:8080/",
     "height": 206
    },
    "id": "dQzSAZ2SfYBr",
    "outputId": "e95795b0-0717-4331-c0ce-a4edc9b666b2"
   },
   "outputs": [],
   "source": [
    "train.head()"
   ]
  },
  {
   "cell_type": "code",
   "execution_count": null,
   "metadata": {
    "colab": {
     "base_uri": "https://localhost:8080/",
     "height": 206
    },
    "id": "JLDD0djxfcYD",
    "outputId": "6c98a476-d79a-4dbb-a998-87e358fc6625"
   },
   "outputs": [],
   "source": [
    "test = pd.read_csv(\"test_descriptions.csv\")\n",
    "test.head()"
   ]
  },
  {
   "cell_type": "markdown",
   "metadata": {
    "id": "9KoPtEmoNhhD"
   },
   "source": [
    "Load extra crawled data"
   ]
  },
  {
   "cell_type": "code",
   "execution_count": null,
   "metadata": {
    "colab": {
     "base_uri": "https://localhost:8080/",
     "height": 206
    },
    "id": "DqF9FbEnNg1s",
    "outputId": "3a2565ac-e7ae-4282-86ea-481667550fe6"
   },
   "outputs": [],
   "source": [
    "import json\n",
    "\n",
    "with open(\"crawleddata.json\") as f:\n",
    "  crawled = json.load(f)\n",
    "\n",
    "crawled = pd.DataFrame(crawled)\n",
    "crawled.head()"
   ]
  },
  {
   "cell_type": "markdown",
   "metadata": {
    "id": "VQTa5CvfQA0v"
   },
   "source": [
    "Normalize data"
   ]
  },
  {
   "cell_type": "code",
   "execution_count": null,
   "metadata": {
    "id": "MKvpDPkagblx"
   },
   "outputs": [],
   "source": [
    "import re\n",
    "\n",
    "def normalize_texts(texts):\n",
    "  return [normalize_text(text) for text in texts]\n",
    "\n",
    "def normalize_text(text):\n",
    "  # To lower case\n",
    "  text = text.lower()\n",
    "  # Remove html tags\n",
    "  text = text.replace(\"<br/>\", \"\")\n",
    "  # Remove HEIGHT OF MODEL sections at the end of texts\n",
    "  if \"height of model\" in text:\n",
    "    text = text[:text.find(\"height of model\")]\n",
    "  return text"
   ]
  },
  {
   "cell_type": "code",
   "execution_count": null,
   "metadata": {
    "id": "dk1T3xPGgnev"
   },
   "outputs": [],
   "source": [
    "train = train.apply(normalize_texts, axis=0)\n",
    "test = test.apply(normalize_texts, axis=0)\n",
    "crawled = crawled.apply(normalize_texts, axis=0)"
   ]
  },
  {
   "cell_type": "code",
   "execution_count": null,
   "metadata": {
    "colab": {
     "base_uri": "https://localhost:8080/",
     "height": 424
    },
    "id": "MeExnZCpg_s2",
    "outputId": "ce06943a-2a0d-42da-d098-976d8709e816"
   },
   "outputs": [],
   "source": [
    "train"
   ]
  },
  {
   "cell_type": "code",
   "execution_count": null,
   "metadata": {
    "colab": {
     "base_uri": "https://localhost:8080/",
     "height": 424
    },
    "id": "JkCi1XHWhA6H",
    "outputId": "c80e9b07-f547-4678-d8b1-1420a3977026"
   },
   "outputs": [],
   "source": [
    "test"
   ]
  },
  {
   "cell_type": "code",
   "execution_count": null,
   "metadata": {
    "colab": {
     "base_uri": "https://localhost:8080/",
     "height": 424
    },
    "id": "KB7LW6drN41h",
    "outputId": "045c85ac-df1d-42ee-967a-9d2dccb699e0"
   },
   "outputs": [],
   "source": [
    "crawled"
   ]
  },
  {
   "cell_type": "markdown",
   "metadata": {
    "id": "AYRSHvn-QFaC"
   },
   "source": [
    "Prepare validation dataset, and append crawled data to train data"
   ]
  },
  {
   "cell_type": "code",
   "execution_count": null,
   "metadata": {
    "id": "ZdAhjHvuN-5y"
   },
   "outputs": [],
   "source": [
    "train = train.append(crawled).drop_duplicates().sample(frac=1., random_state=123)"
   ]
  },
  {
   "cell_type": "code",
   "execution_count": null,
   "metadata": {
    "id": "1tlQqmOiQGke"
   },
   "outputs": [],
   "source": [
    "from sklearn.model_selection import train_test_split\n",
    "\n",
    "train, val = train_test_split(train, test_size=0.1, random_state=42)"
   ]
  },
  {
   "cell_type": "code",
   "execution_count": null,
   "metadata": {
    "colab": {
     "base_uri": "https://localhost:8080/"
    },
    "id": "h7c6zyNvQVk-",
    "outputId": "ce01ce2c-0c9f-4a08-b837-865c7cfa6fcc"
   },
   "outputs": [],
   "source": [
    "len(train)"
   ]
  },
  {
   "cell_type": "code",
   "execution_count": null,
   "metadata": {
    "colab": {
     "base_uri": "https://localhost:8080/"
    },
    "id": "_M12tysJQWaY",
    "outputId": "9f22fb80-214e-4c6f-e550-20028d7809ea"
   },
   "outputs": [],
   "source": [
    "len(val)"
   ]
  },
  {
   "cell_type": "code",
   "execution_count": null,
   "metadata": {
    "id": "jO4wonf0PaI_"
   },
   "outputs": [],
   "source": [
    "#FIXME: downsample\n",
    "#train = train[:10]\n",
    "#val = val[:10]"
   ]
  },
  {
   "cell_type": "markdown",
   "metadata": {
    "id": "-4OvylG5jxzT"
   },
   "source": [
    "Create Pytorch DatasetLoader"
   ]
  },
  {
   "cell_type": "code",
   "execution_count": null,
   "metadata": {
    "id": "fakaKaKQjzGC"
   },
   "outputs": [],
   "source": [
    "import torch\n",
    "from transformers.models.bart.modeling_bart import shift_tokens_right\n",
    "\n",
    "class SpainAICollator:\n",
    "    \"\"\"Data collator for SpainAI hackathon data\"\"\"\n",
    "    \n",
    "    def __init__(self, tokenizer, model):\n",
    "        \"\"\"Initializes the collator with a tokenizer\"\"\"\n",
    "        self.tokenizer = tokenizer\n",
    "        self.device = torch.device(\"cuda\" if torch.cuda.is_available() else \"cpu\")\n",
    "        self.model = model\n",
    "\n",
    "    def to_device(self, tensors):\n",
    "        \"\"\"Moves to the computing device a dictionary of Pytorch tensors\"\"\"\n",
    "        for key in tensors:\n",
    "            tensors[key] = tensors[key].to(self.device)\n",
    "        return tensors\n",
    "    \n",
    "    def encode_inputs(self, texts):\n",
    "        \"\"\"Transforms an iterable of input texts into a dictionary of model input tensors, stored in the GPU\"\"\"\n",
    "        input_encodings = self.tokenizer.batch_encode_plus(texts, padding=\"longest\", return_tensors=\"pt\")\n",
    "        return self.to_device({\n",
    "            'input_ids': input_encodings['input_ids'],\n",
    "            'attention_mask': input_encodings['attention_mask'],\n",
    "        })\n",
    "\n",
    "    def encode_outputs(self, texts):\n",
    "        target_encodings = tokenizer.batch_encode_plus(texts, padding=\"longest\", return_tensors=\"pt\")\n",
    "        labels = target_encodings['input_ids']\n",
    "        decoder_input_ids = shift_tokens_right(labels, self.model.config.pad_token_id)\n",
    "        labels[labels[:, :] == self.model.config.pad_token_id] = -100\n",
    "        return self.to_device({\n",
    "            'decoder_input_ids': decoder_input_ids,\n",
    "            'labels': labels,\n",
    "        })\n",
    "    \n",
    "    def __call__(self, patterns):\n",
    "        \"\"\"Collate a batch of patterns\n",
    "        \n",
    "        Arguments:\n",
    "            - patterns: iterable of tuples in the form (input_text, output_text), \n",
    "              or just iterable of input texts\n",
    "            \n",
    "        Output: dictionary of torch tensors ready for model input\n",
    "        \"\"\"\n",
    "        # Check kind of input\n",
    "        if len(patterns) < 1: raise ValueError(f\"At least one pattern is required, found {len(patterns)}\")\n",
    "        if not isinstance(patterns[0], (tuple, str)): raise ValueError(f\"Each pattern must be one text, or a tuple with two texts. Found {patterns[0]}\")\n",
    "        targets_provided = len(patterns[0]) == 2\n",
    "        # Split texts and classes from the input list of tuples\n",
    "        if targets_provided:\n",
    "            input_texts, output_texts = zip(*patterns)\n",
    "        else:\n",
    "            input_texts = patterns\n",
    "        # Encode inputs\n",
    "        tensors = self.encode_inputs(input_texts)\n",
    "        # Encode outputs (if provided)\n",
    "        if targets_provided:\n",
    "          tensors = {**tensors, **self.encode_outputs(output_texts)}\n",
    "        return tensors"
   ]
  },
  {
   "cell_type": "markdown",
   "metadata": {
    "id": "3ZDrRehegQRd"
   },
   "source": [
    "## Train BART conditional generation model"
   ]
  },
  {
   "cell_type": "code",
   "execution_count": null,
   "metadata": {
    "id": "oArhNirrgRb3"
   },
   "outputs": [],
   "source": [
    "from transformers import BartTokenizer, BartForConditionalGeneration"
   ]
  },
  {
   "cell_type": "code",
   "execution_count": null,
   "metadata": {
    "colab": {
     "base_uri": "https://localhost:8080/",
     "height": 117,
     "referenced_widgets": [
      "bf8ccfb4a3174ad081981cb3babba7ae",
      "910a357697984a028f65c2b717f5d9c4",
      "9f079150317e44c39a0151014680de11",
      "50236a8de12f4d92a17f58dbf70cc6b9",
      "5103d79fce5145af90f6da8c022cc2c2",
      "747c04b8a74b412abdadca5262cc7d8d",
      "becc5d5cd8b743f58a5c56d8b2ecc1fd",
      "59c9decd597641cc9a94ada843f74445",
      "05b57adbfa5648629b8c1223b136bca7",
      "4ce6e2d4399342e78d4a3a3f31168fe7",
      "b14178e3196d46e9944b35f2b193bcf3",
      "f99fb1d93b714344a59f4806316bb8cf",
      "4bfca2b4478e4a7ca9fa13aecba905b6",
      "f794dc9c62f64b219d1aee8dc212d8c6",
      "1fe0cbf22cad4d5f9fe9e08a5f7eef2d",
      "76ae20484ea04184925dda377e78f009"
     ]
    },
    "id": "motEpbJVgTg2",
    "outputId": "1351316d-b3e0-4e62-85c0-6aa7efd35a1a"
   },
   "outputs": [],
   "source": [
    "model_name = 'facebook/bart-base'\n",
    "#model_name = 'facebook/bart-large'\n",
    "tokenizer = BartTokenizer.from_pretrained(model_name)"
   ]
  },
  {
   "cell_type": "code",
   "execution_count": null,
   "metadata": {
    "colab": {
     "base_uri": "https://localhost:8080/",
     "height": 117,
     "referenced_widgets": [
      "0de617e2ed954090ac487839f4fbc5ec",
      "c892154f7b00413a9222f2d48a15a457",
      "06d019416e0343fb8336269da2ad88d0",
      "a841ea467a6a474592cd157e1a29479e",
      "fbaaee5330f24737b448f4a885ee47b5",
      "c076448911a14ef7bf6138527824bc5a",
      "309186a7847d4ed6a62f144017cec586",
      "1064be60690d4e01ba35a8ba8b62f70f",
      "3c401b6cb2c84b2290f7a44ae0825dff",
      "83926bd9cbd848dfab2719c229292fe1",
      "5ef488f092c74c088505a6c0e075ca20",
      "19c6721459d0433ead5d6b63d95bf34e",
      "197d60b82831436e91d08b75b7ea5eb3",
      "e1f42ed006e441dcb65a86f26265ef98",
      "af4d9d80f6fd4b238b7996a5495134d4",
      "7ee77ac1d43e45418edfb9bd3c0165ec"
     ]
    },
    "id": "ELMcnmXhnTd_",
    "outputId": "22267d06-5f51-4a0d-fd80-4dfc25f73f63"
   },
   "outputs": [],
   "source": [
    "model = BartForConditionalGeneration.from_pretrained(model_name)"
   ]
  },
  {
   "cell_type": "code",
   "execution_count": null,
   "metadata": {
    "id": "4uGngc04iv3f"
   },
   "outputs": [],
   "source": [
    "collator = SpainAICollator(tokenizer, model)"
   ]
  },
  {
   "cell_type": "code",
   "execution_count": null,
   "metadata": {
    "id": "n5fN_atWMJE7"
   },
   "outputs": [],
   "source": [
    "from itertools import islice\n",
    "\n",
    "def splitevery(iterable, n):\n",
    "    \"\"\"Returns blocks of elements from an iterator\"\"\"\n",
    "    i = iter(iterable)\n",
    "    piece = list(islice(i, n))\n",
    "    while piece:\n",
    "        yield piece\n",
    "        piece = list(islice(i, n))\n",
    "\n",
    "def generate_names(model, tokenizer, collator, descriptions, num_sequences=20, batchsize=16):\n",
    "    name_proposals = []\n",
    "    # Generate predictions in batches\n",
    "    for descriptions in splitevery(descriptions, batchsize):\n",
    "        tensors = collator.encode_inputs(descriptions)\n",
    "        summary_ids = model.generate(\n",
    "            tensors['input_ids'], \n",
    "            num_beams=num_sequences, \n",
    "            num_return_sequences=num_sequences, \n",
    "            do_sample=False, \n",
    "            early_stopping=True,\n",
    "            top_k=50, \n",
    "            top_p=0.95,\n",
    "            length_penalty=0,\n",
    "        )\n",
    "        decoded = [tokenizer.decode(g, skip_special_tokens=True, clean_up_tokenization_spaces=False) for g in summary_ids]\n",
    "        # Group proposals for each element\n",
    "        decoded = splitevery(decoded, num_sequences)\n",
    "        # Remove duplicates\n",
    "        filtered = []\n",
    "        for line in decoded:\n",
    "            filtered_line = []\n",
    "            for elem in line:\n",
    "                if elem not in filtered_line:\n",
    "                    filtered_line.append(elem)\n",
    "            filtered.append(filtered_line[:10])\n",
    "        name_proposals.extend(filtered)\n",
    "    return name_proposals"
   ]
  },
  {
   "cell_type": "code",
   "execution_count": null,
   "metadata": {
    "id": "PhydGcuaMGWK"
   },
   "outputs": [],
   "source": [
    "from transformers import TrainerCallback\n",
    "import numpy as np\n",
    "\n",
    "class DCGCallback(TrainerCallback):\n",
    "    def __init__(self, tokenizer, collator, val):\n",
    "        self.tokenizer = tokenizer\n",
    "        self.collator = collator\n",
    "        self.val = val\n",
    "\n",
    "    def on_evaluate(self, args, state, control, model, metrics, **kwargs):\n",
    "        # Generate names\n",
    "        names = generate_names(model, self.tokenizer, self.collator, self.val[\"description\"])\n",
    "        proposals_val = pd.DataFrame({\n",
    "            \"description\": self.val[\"description\"],\n",
    "            \"name\": self.val[\"name\"],\n",
    "            \"proposed\": names,\n",
    "        })\n",
    "        # Evaluate DGC for each name\n",
    "        dgc = 0\n",
    "        for _, row in proposals_val.iterrows():\n",
    "            if row[\"name\"] in row[\"proposed\"]:\n",
    "                idx = row[\"proposed\"].index(row[\"name\"])\n",
    "                dgc += 1 / np.log2(idx+2)\n",
    "        dgc = dgc / len(proposals_val) * 100\n",
    "        metrics[\"eval_dgc\"] = dgc\n",
    "\n",
    "dgc_callback = DCGCallback(tokenizer, collator, val)"
   ]
  },
  {
   "cell_type": "code",
   "execution_count": null,
   "metadata": {
    "id": "efRO_QrcoLgh"
   },
   "outputs": [],
   "source": [
    "from transformers import Trainer, TrainingArguments\n",
    "\n",
    "training_args = TrainingArguments(\n",
    "    output_dir='./model',\n",
    "    num_train_epochs=1,\n",
    "    #per_device_train_batch_size=8,\n",
    "    per_device_train_batch_size=32,\n",
    "    #gradient_accumulation_steps=4,\n",
    "    gradient_accumulation_steps=1,\n",
    "    per_device_eval_batch_size=64,   \n",
    "    warmup_steps=500,               \n",
    "    weight_decay=0.01,              \n",
    "    logging_dir='./logs',  \n",
    "    evaluation_strategy=\"epoch\",\n",
    "    metric_for_best_model=\"eval_dgc\",\n",
    "    greater_is_better=True,\n",
    "    load_best_model_at_end=True,\n",
    "    save_steps=1000,\n",
    "    save_total_limit=7\n",
    ")\n",
    "\n",
    "trainer = Trainer(\n",
    "    model=model,        \n",
    "    data_collator=collator,               \n",
    "    args=training_args,                  \n",
    "    train_dataset=list(zip(train['description'], train['name'])),\n",
    "    eval_dataset=list(zip(val['description'], val['name'])),\n",
    "    callbacks=[dgc_callback]\n",
    ")"
   ]
  },
  {
   "cell_type": "code",
   "execution_count": null,
   "metadata": {
    "colab": {
     "base_uri": "https://localhost:8080/",
     "height": 221
    },
    "id": "C2A8oCSqoY3d",
    "outputId": "a4396c37-edff-419e-d940-ceac21a5185c"
   },
   "outputs": [],
   "source": [
    "trainer.train()"
   ]
  },
  {
   "cell_type": "markdown",
   "metadata": {
    "id": "nPl7sdbR9NMe"
   },
   "source": [
    "Epoch \tTraining Loss \tValidation Loss \tDgc\n",
    "1 \t1.407647 \t1.071616 \t20.505750\n",
    "2 \t1.086566 \t0.929239 \t24.267701\n",
    "3 \t0.937676 \t0.866479 \t27.718055\n",
    "4 \t0.821126 \t0.823135 \t29.488869\n",
    "5 \t0.720493 \t0.790940 \t31.402732\n",
    "6 \t0.663704 \t0.764436 \t32.658482\n",
    "7 \t0.616000 \t0.759198 \t34.027026\n",
    "8 \t0.562149 \t0.743891 \t34.719459\n",
    "9 \t0.531981 \t0.748388 \t35.706914\n",
    "10 \t0.498206 \t0.751276 \t36.305989"
   ]
  },
  {
   "cell_type": "code",
   "execution_count": null,
   "metadata": {
    "id": "XNchgbrfe9oK"
   },
   "outputs": [],
   "source": [
    "# Load from checkpoint\n",
    "#model = BartForConditionalGeneration.from_pretrained(\"./model/checkpoint-15128\")\n",
    "#device = torch.device(\"cuda\" if torch.cuda.is_available() else \"cpu\")\n",
    "#model = model.to(device)"
   ]
  },
  {
   "cell_type": "markdown",
   "metadata": {
    "id": "mkSflrQmsmxh"
   },
   "source": [
    "Names generation"
   ]
  },
  {
   "cell_type": "code",
   "execution_count": null,
   "metadata": {
    "id": "JwU57bySEJEE"
   },
   "outputs": [],
   "source": [
    "# List of common english words\n",
    "!wget https://github.com/dwyl/english-words/raw/master/words.txt"
   ]
  },
  {
   "cell_type": "code",
   "execution_count": null,
   "metadata": {
    "id": "qRf3I6iHETVo"
   },
   "outputs": [],
   "source": [
    "with open(\"words.txt\") as f:\n",
    "  words = set([word.lower() for word in f.read().splitlines()])"
   ]
  },
  {
   "cell_type": "code",
   "execution_count": null,
   "metadata": {
    "id": "SNVpLOzeEb3g"
   },
   "outputs": [],
   "source": [
    "from spacy.lang.en import English\n",
    "nlp = English()\n",
    "spacy_tokenizer = nlp.Defaults.create_tokenizer(nlp)"
   ]
  },
  {
   "cell_type": "code",
   "execution_count": null,
   "metadata": {
    "id": "J4qXDikOwhlq"
   },
   "outputs": [],
   "source": [
    "samples = 10\n",
    "names = generate_names(model, tokenizer, collator, val[\"description\"][:samples])\n",
    "proposals_val = pd.DataFrame({\n",
    "    \"description\": val[\"description\"][:samples],\n",
    "    \"name\": val[\"name\"][:samples],\n",
    "    \"proposed\": names,\n",
    "})\n",
    "proposals_val"
   ]
  },
  {
   "cell_type": "code",
   "execution_count": null,
   "metadata": {
    "id": "vioDsBsSlai5"
   },
   "outputs": [],
   "source": [
    "i = 4\n",
    "print(proposals_val.iloc[i][\"description\"])\n",
    "print(proposals_val.iloc[i][\"name\"])\n",
    "print(len(set(proposals_val.iloc[i][\"proposed\"])))\n",
    "proposals_val.iloc[i][\"proposed\"]"
   ]
  },
  {
   "cell_type": "code",
   "execution_count": null,
   "metadata": {
    "id": "Mm3FDsr4hPJg"
   },
   "outputs": [],
   "source": [
    "#names = generate_names(model, tokenizer, collator, train[\"description\"])\n",
    "#proposals_train = pd.DataFrame({\n",
    "#    \"description\": train[\"description\"],\n",
    "#    \"name\": train[\"name\"],\n",
    "#    \"proposed\": names,\n",
    "#})\n",
    "#proposals_train"
   ]
  },
  {
   "cell_type": "code",
   "execution_count": null,
   "metadata": {
    "id": "OI-mI5wbZQtJ"
   },
   "outputs": [],
   "source": [
    "#!tar -zcvf model.tar.gz model/checkpoint-4725/"
   ]
  },
  {
   "cell_type": "markdown",
   "metadata": {
    "id": "BuCJ4HWjyJj7"
   },
   "source": [
    "## Prepare submission"
   ]
  },
  {
   "cell_type": "code",
   "execution_count": null,
   "metadata": {
    "id": "ApAJW6zqtTrQ"
   },
   "outputs": [],
   "source": [
    "names = generate_names(model, tokenizer, collator, test[\"description\"])"
   ]
  },
  {
   "cell_type": "code",
   "execution_count": null,
   "metadata": {
    "id": "BxuFtkCNHMkj"
   },
   "outputs": [],
   "source": [
    "names[1]"
   ]
  },
  {
   "cell_type": "code",
   "execution_count": null,
   "metadata": {
    "id": "0l6kfvP4yNW6"
   },
   "outputs": [],
   "source": [
    "submission = pd.DataFrame({\n",
    "    \"name\": [\",\".join(name_list) for name_list in names]\n",
    "})"
   ]
  },
  {
   "cell_type": "code",
   "execution_count": null,
   "metadata": {
    "id": "LLyJoZpdyfCz"
   },
   "outputs": [],
   "source": [
    "submission.to_csv(\"submission.csv\", index=False)"
   ]
  },
  {
   "cell_type": "markdown",
   "metadata": {
    "id": "wE9DktRMvBN0"
   },
   "source": [
    "## Results so far\n",
    "\n",
    "|Pre-processing|Model|Generation|Validation result|Validation CDG|Test result|\n",
    "|--------------|-----|----------|-----------------|--------------|-----------|\n",
    "|Lowercase, remove br|Simple BART base|Beam 10, sequences 10|-|-|10.41|\n",
    "|Lowercase, remove br|BART-base, batchsize 32, warmup steps 500, weight_decay=0.01, max epochs 10, select lowest loss in 10% val.|Beam 10, sequences 10|0.883147|-|11.47|\n",
    "|Lowercase, remove br|BART-large, batchsize 8, warmup steps 500, weight_decay=0.01, max epochs 6, select lowest loss in 10% val.|Beam 10, sequences 10|1.198717|-|13.57|\n",
    "|Lowercase, remove br|BART-large, batchsize 8x4, warmup steps 500, weight_decay=0.01, max epochs 10, select lowest loss in 10% val in last 4 steps|Beam 10, sequences 10|1.118869|-|14.84|\n",
    "|Lowercase, remove br|BART-large, batchsize 8x4, warmup steps 500, weight_decay=0.01, max epochs 4, select lowest loss in 10% val in last 4 steps|Beam 10, sequences 10|1.032960|-|15.12|\n",
    "|Lowercase, remove br, remove height of model (WRONG PREPROCESSING)|BART-large, batchsize 8x4, warmup steps 500, weight_decay=0.01, max epochs 7, select lowest loss in 10% val in last 4 steps|Beam 10, sequences 10|1.075144|-|0.04|\n",
    "|Lowercase, remove br, remove height of model|BART-large, batchsize 8x4, warmup steps 500, weight_decay=0.01, max epochs 9, select lowest loss in 10% val in last 4 steps|Beam 10, sequences 10|1.108078|-|15.4|\n",
    "|Lowercase, remove br, remove height of model, add crawled data v2, remove duplicates|BART-large, batchsize 8x4, warmup steps 500, weight_decay=0.01, max epochs 7, select lowest loss in 10% val in last 4 steps|Beam 10, sequences 10|0.941261|-|16.72|\n",
    "|Lowercase, remove br, remove height of model, add crawled data v2, remove duplicates|BART-large, batchsize 8x4, warmup steps 500, weight_decay=0.01, max epochs 7, select lowest loss in 10% val in last 4 steps|Beam 20, sequences 20, keep 10 different|0.941261|-|12.09|\n",
    "|Lowercase, remove br, remove height of model, add crawled data v2, remove duplicates|BART-small, batchsize 32, warmup steps 500, weight_decay=0.01, max epochs 10, select highest CDG in 10% val in last 7 steps|Beam 20, sequences 20, top_k=50, top_p=0.95, keep 10 different|0.751276|36.305989|13.71|\n",
    "\n",
    "Note: in last run the best val result was obtained at last epoch. We might do better with additional epochs."
   ]
  },
  {
   "cell_type": "markdown",
   "metadata": {
    "id": "grsviH2H1WK3"
   },
   "source": [
    "## Improvements\n",
    "\n",
    "* Fine-tune model parameters with a validation dataset and GridSearch, using [competition metric](https://en.wikipedia.org/wiki/Discounted_cumulative_gain)\n",
    "* Use back-translation to generate more samples\n",
    "* Filter generated texts using a dictionary. Discard texts with out-of-dictionary words.\n",
    "* Try to obtain probabilities out of beam search. Sort results by probabilities.\n",
    "* Try creating a simple model with one class per word in the name, that predicts which words appear in the name. Then sort the words according to most frequent order in train data."
   ]
  }
 ],
 "metadata": {
  "accelerator": "GPU",
  "colab": {
   "name": "SpainAIBART.ipynb",
   "provenance": [],
   "toc_visible": true
  },
  "kernelspec": {
   "display_name": "Python 3",
   "language": "python",
   "name": "python3"
  },
  "language_info": {
   "codemirror_mode": {
    "name": "ipython",
    "version": 3
   },
   "file_extension": ".py",
   "mimetype": "text/x-python",
   "name": "python",
   "nbconvert_exporter": "python",
   "pygments_lexer": "ipython3",
   "version": "3.8.5"
  },
  "widgets": {
   "application/vnd.jupyter.widget-state+json": {
    "05b57adbfa5648629b8c1223b136bca7": {
     "model_module": "@jupyter-widgets/controls",
     "model_name": "HBoxModel",
     "state": {
      "_dom_classes": [],
      "_model_module": "@jupyter-widgets/controls",
      "_model_module_version": "1.5.0",
      "_model_name": "HBoxModel",
      "_view_count": null,
      "_view_module": "@jupyter-widgets/controls",
      "_view_module_version": "1.5.0",
      "_view_name": "HBoxView",
      "box_style": "",
      "children": [
       "IPY_MODEL_b14178e3196d46e9944b35f2b193bcf3",
       "IPY_MODEL_f99fb1d93b714344a59f4806316bb8cf"
      ],
      "layout": "IPY_MODEL_4ce6e2d4399342e78d4a3a3f31168fe7"
     }
    },
    "06d019416e0343fb8336269da2ad88d0": {
     "model_module": "@jupyter-widgets/controls",
     "model_name": "FloatProgressModel",
     "state": {
      "_dom_classes": [],
      "_model_module": "@jupyter-widgets/controls",
      "_model_module_version": "1.5.0",
      "_model_name": "FloatProgressModel",
      "_view_count": null,
      "_view_module": "@jupyter-widgets/controls",
      "_view_module_version": "1.5.0",
      "_view_name": "ProgressView",
      "bar_style": "success",
      "description": "Downloading: 100%",
      "description_tooltip": null,
      "layout": "IPY_MODEL_c076448911a14ef7bf6138527824bc5a",
      "max": 1525,
      "min": 0,
      "orientation": "horizontal",
      "style": "IPY_MODEL_fbaaee5330f24737b448f4a885ee47b5",
      "value": 1525
     }
    },
    "0de617e2ed954090ac487839f4fbc5ec": {
     "model_module": "@jupyter-widgets/controls",
     "model_name": "HBoxModel",
     "state": {
      "_dom_classes": [],
      "_model_module": "@jupyter-widgets/controls",
      "_model_module_version": "1.5.0",
      "_model_name": "HBoxModel",
      "_view_count": null,
      "_view_module": "@jupyter-widgets/controls",
      "_view_module_version": "1.5.0",
      "_view_name": "HBoxView",
      "box_style": "",
      "children": [
       "IPY_MODEL_06d019416e0343fb8336269da2ad88d0",
       "IPY_MODEL_a841ea467a6a474592cd157e1a29479e"
      ],
      "layout": "IPY_MODEL_c892154f7b00413a9222f2d48a15a457"
     }
    },
    "1064be60690d4e01ba35a8ba8b62f70f": {
     "model_module": "@jupyter-widgets/base",
     "model_name": "LayoutModel",
     "state": {
      "_model_module": "@jupyter-widgets/base",
      "_model_module_version": "1.2.0",
      "_model_name": "LayoutModel",
      "_view_count": null,
      "_view_module": "@jupyter-widgets/base",
      "_view_module_version": "1.2.0",
      "_view_name": "LayoutView",
      "align_content": null,
      "align_items": null,
      "align_self": null,
      "border": null,
      "bottom": null,
      "display": null,
      "flex": null,
      "flex_flow": null,
      "grid_area": null,
      "grid_auto_columns": null,
      "grid_auto_flow": null,
      "grid_auto_rows": null,
      "grid_column": null,
      "grid_gap": null,
      "grid_row": null,
      "grid_template_areas": null,
      "grid_template_columns": null,
      "grid_template_rows": null,
      "height": null,
      "justify_content": null,
      "justify_items": null,
      "left": null,
      "margin": null,
      "max_height": null,
      "max_width": null,
      "min_height": null,
      "min_width": null,
      "object_fit": null,
      "object_position": null,
      "order": null,
      "overflow": null,
      "overflow_x": null,
      "overflow_y": null,
      "padding": null,
      "right": null,
      "top": null,
      "visibility": null,
      "width": null
     }
    },
    "197d60b82831436e91d08b75b7ea5eb3": {
     "model_module": "@jupyter-widgets/controls",
     "model_name": "ProgressStyleModel",
     "state": {
      "_model_module": "@jupyter-widgets/controls",
      "_model_module_version": "1.5.0",
      "_model_name": "ProgressStyleModel",
      "_view_count": null,
      "_view_module": "@jupyter-widgets/base",
      "_view_module_version": "1.2.0",
      "_view_name": "StyleView",
      "bar_color": null,
      "description_width": "initial"
     }
    },
    "19c6721459d0433ead5d6b63d95bf34e": {
     "model_module": "@jupyter-widgets/controls",
     "model_name": "HTMLModel",
     "state": {
      "_dom_classes": [],
      "_model_module": "@jupyter-widgets/controls",
      "_model_module_version": "1.5.0",
      "_model_name": "HTMLModel",
      "_view_count": null,
      "_view_module": "@jupyter-widgets/controls",
      "_view_module_version": "1.5.0",
      "_view_name": "HTMLView",
      "description": "",
      "description_tooltip": null,
      "layout": "IPY_MODEL_7ee77ac1d43e45418edfb9bd3c0165ec",
      "placeholder": "​",
      "style": "IPY_MODEL_af4d9d80f6fd4b238b7996a5495134d4",
      "value": " 1.02G/1.02G [00:47&lt;00:00, 21.5MB/s]"
     }
    },
    "1fe0cbf22cad4d5f9fe9e08a5f7eef2d": {
     "model_module": "@jupyter-widgets/controls",
     "model_name": "DescriptionStyleModel",
     "state": {
      "_model_module": "@jupyter-widgets/controls",
      "_model_module_version": "1.5.0",
      "_model_name": "DescriptionStyleModel",
      "_view_count": null,
      "_view_module": "@jupyter-widgets/base",
      "_view_module_version": "1.2.0",
      "_view_name": "StyleView",
      "description_width": ""
     }
    },
    "309186a7847d4ed6a62f144017cec586": {
     "model_module": "@jupyter-widgets/controls",
     "model_name": "DescriptionStyleModel",
     "state": {
      "_model_module": "@jupyter-widgets/controls",
      "_model_module_version": "1.5.0",
      "_model_name": "DescriptionStyleModel",
      "_view_count": null,
      "_view_module": "@jupyter-widgets/base",
      "_view_module_version": "1.2.0",
      "_view_name": "StyleView",
      "description_width": ""
     }
    },
    "3c401b6cb2c84b2290f7a44ae0825dff": {
     "model_module": "@jupyter-widgets/controls",
     "model_name": "HBoxModel",
     "state": {
      "_dom_classes": [],
      "_model_module": "@jupyter-widgets/controls",
      "_model_module_version": "1.5.0",
      "_model_name": "HBoxModel",
      "_view_count": null,
      "_view_module": "@jupyter-widgets/controls",
      "_view_module_version": "1.5.0",
      "_view_name": "HBoxView",
      "box_style": "",
      "children": [
       "IPY_MODEL_5ef488f092c74c088505a6c0e075ca20",
       "IPY_MODEL_19c6721459d0433ead5d6b63d95bf34e"
      ],
      "layout": "IPY_MODEL_83926bd9cbd848dfab2719c229292fe1"
     }
    },
    "4bfca2b4478e4a7ca9fa13aecba905b6": {
     "model_module": "@jupyter-widgets/controls",
     "model_name": "ProgressStyleModel",
     "state": {
      "_model_module": "@jupyter-widgets/controls",
      "_model_module_version": "1.5.0",
      "_model_name": "ProgressStyleModel",
      "_view_count": null,
      "_view_module": "@jupyter-widgets/base",
      "_view_module_version": "1.2.0",
      "_view_name": "StyleView",
      "bar_color": null,
      "description_width": "initial"
     }
    },
    "4ce6e2d4399342e78d4a3a3f31168fe7": {
     "model_module": "@jupyter-widgets/base",
     "model_name": "LayoutModel",
     "state": {
      "_model_module": "@jupyter-widgets/base",
      "_model_module_version": "1.2.0",
      "_model_name": "LayoutModel",
      "_view_count": null,
      "_view_module": "@jupyter-widgets/base",
      "_view_module_version": "1.2.0",
      "_view_name": "LayoutView",
      "align_content": null,
      "align_items": null,
      "align_self": null,
      "border": null,
      "bottom": null,
      "display": null,
      "flex": null,
      "flex_flow": null,
      "grid_area": null,
      "grid_auto_columns": null,
      "grid_auto_flow": null,
      "grid_auto_rows": null,
      "grid_column": null,
      "grid_gap": null,
      "grid_row": null,
      "grid_template_areas": null,
      "grid_template_columns": null,
      "grid_template_rows": null,
      "height": null,
      "justify_content": null,
      "justify_items": null,
      "left": null,
      "margin": null,
      "max_height": null,
      "max_width": null,
      "min_height": null,
      "min_width": null,
      "object_fit": null,
      "object_position": null,
      "order": null,
      "overflow": null,
      "overflow_x": null,
      "overflow_y": null,
      "padding": null,
      "right": null,
      "top": null,
      "visibility": null,
      "width": null
     }
    },
    "50236a8de12f4d92a17f58dbf70cc6b9": {
     "model_module": "@jupyter-widgets/controls",
     "model_name": "HTMLModel",
     "state": {
      "_dom_classes": [],
      "_model_module": "@jupyter-widgets/controls",
      "_model_module_version": "1.5.0",
      "_model_name": "HTMLModel",
      "_view_count": null,
      "_view_module": "@jupyter-widgets/controls",
      "_view_module_version": "1.5.0",
      "_view_name": "HTMLView",
      "description": "",
      "description_tooltip": null,
      "layout": "IPY_MODEL_59c9decd597641cc9a94ada843f74445",
      "placeholder": "​",
      "style": "IPY_MODEL_becc5d5cd8b743f58a5c56d8b2ecc1fd",
      "value": " 899k/899k [00:01&lt;00:00, 659kB/s]"
     }
    },
    "5103d79fce5145af90f6da8c022cc2c2": {
     "model_module": "@jupyter-widgets/controls",
     "model_name": "ProgressStyleModel",
     "state": {
      "_model_module": "@jupyter-widgets/controls",
      "_model_module_version": "1.5.0",
      "_model_name": "ProgressStyleModel",
      "_view_count": null,
      "_view_module": "@jupyter-widgets/base",
      "_view_module_version": "1.2.0",
      "_view_name": "StyleView",
      "bar_color": null,
      "description_width": "initial"
     }
    },
    "59c9decd597641cc9a94ada843f74445": {
     "model_module": "@jupyter-widgets/base",
     "model_name": "LayoutModel",
     "state": {
      "_model_module": "@jupyter-widgets/base",
      "_model_module_version": "1.2.0",
      "_model_name": "LayoutModel",
      "_view_count": null,
      "_view_module": "@jupyter-widgets/base",
      "_view_module_version": "1.2.0",
      "_view_name": "LayoutView",
      "align_content": null,
      "align_items": null,
      "align_self": null,
      "border": null,
      "bottom": null,
      "display": null,
      "flex": null,
      "flex_flow": null,
      "grid_area": null,
      "grid_auto_columns": null,
      "grid_auto_flow": null,
      "grid_auto_rows": null,
      "grid_column": null,
      "grid_gap": null,
      "grid_row": null,
      "grid_template_areas": null,
      "grid_template_columns": null,
      "grid_template_rows": null,
      "height": null,
      "justify_content": null,
      "justify_items": null,
      "left": null,
      "margin": null,
      "max_height": null,
      "max_width": null,
      "min_height": null,
      "min_width": null,
      "object_fit": null,
      "object_position": null,
      "order": null,
      "overflow": null,
      "overflow_x": null,
      "overflow_y": null,
      "padding": null,
      "right": null,
      "top": null,
      "visibility": null,
      "width": null
     }
    },
    "5ef488f092c74c088505a6c0e075ca20": {
     "model_module": "@jupyter-widgets/controls",
     "model_name": "FloatProgressModel",
     "state": {
      "_dom_classes": [],
      "_model_module": "@jupyter-widgets/controls",
      "_model_module_version": "1.5.0",
      "_model_name": "FloatProgressModel",
      "_view_count": null,
      "_view_module": "@jupyter-widgets/controls",
      "_view_module_version": "1.5.0",
      "_view_name": "ProgressView",
      "bar_style": "success",
      "description": "Downloading: 100%",
      "description_tooltip": null,
      "layout": "IPY_MODEL_e1f42ed006e441dcb65a86f26265ef98",
      "max": 1018571383,
      "min": 0,
      "orientation": "horizontal",
      "style": "IPY_MODEL_197d60b82831436e91d08b75b7ea5eb3",
      "value": 1018571383
     }
    },
    "747c04b8a74b412abdadca5262cc7d8d": {
     "model_module": "@jupyter-widgets/base",
     "model_name": "LayoutModel",
     "state": {
      "_model_module": "@jupyter-widgets/base",
      "_model_module_version": "1.2.0",
      "_model_name": "LayoutModel",
      "_view_count": null,
      "_view_module": "@jupyter-widgets/base",
      "_view_module_version": "1.2.0",
      "_view_name": "LayoutView",
      "align_content": null,
      "align_items": null,
      "align_self": null,
      "border": null,
      "bottom": null,
      "display": null,
      "flex": null,
      "flex_flow": null,
      "grid_area": null,
      "grid_auto_columns": null,
      "grid_auto_flow": null,
      "grid_auto_rows": null,
      "grid_column": null,
      "grid_gap": null,
      "grid_row": null,
      "grid_template_areas": null,
      "grid_template_columns": null,
      "grid_template_rows": null,
      "height": null,
      "justify_content": null,
      "justify_items": null,
      "left": null,
      "margin": null,
      "max_height": null,
      "max_width": null,
      "min_height": null,
      "min_width": null,
      "object_fit": null,
      "object_position": null,
      "order": null,
      "overflow": null,
      "overflow_x": null,
      "overflow_y": null,
      "padding": null,
      "right": null,
      "top": null,
      "visibility": null,
      "width": null
     }
    },
    "76ae20484ea04184925dda377e78f009": {
     "model_module": "@jupyter-widgets/base",
     "model_name": "LayoutModel",
     "state": {
      "_model_module": "@jupyter-widgets/base",
      "_model_module_version": "1.2.0",
      "_model_name": "LayoutModel",
      "_view_count": null,
      "_view_module": "@jupyter-widgets/base",
      "_view_module_version": "1.2.0",
      "_view_name": "LayoutView",
      "align_content": null,
      "align_items": null,
      "align_self": null,
      "border": null,
      "bottom": null,
      "display": null,
      "flex": null,
      "flex_flow": null,
      "grid_area": null,
      "grid_auto_columns": null,
      "grid_auto_flow": null,
      "grid_auto_rows": null,
      "grid_column": null,
      "grid_gap": null,
      "grid_row": null,
      "grid_template_areas": null,
      "grid_template_columns": null,
      "grid_template_rows": null,
      "height": null,
      "justify_content": null,
      "justify_items": null,
      "left": null,
      "margin": null,
      "max_height": null,
      "max_width": null,
      "min_height": null,
      "min_width": null,
      "object_fit": null,
      "object_position": null,
      "order": null,
      "overflow": null,
      "overflow_x": null,
      "overflow_y": null,
      "padding": null,
      "right": null,
      "top": null,
      "visibility": null,
      "width": null
     }
    },
    "7ee77ac1d43e45418edfb9bd3c0165ec": {
     "model_module": "@jupyter-widgets/base",
     "model_name": "LayoutModel",
     "state": {
      "_model_module": "@jupyter-widgets/base",
      "_model_module_version": "1.2.0",
      "_model_name": "LayoutModel",
      "_view_count": null,
      "_view_module": "@jupyter-widgets/base",
      "_view_module_version": "1.2.0",
      "_view_name": "LayoutView",
      "align_content": null,
      "align_items": null,
      "align_self": null,
      "border": null,
      "bottom": null,
      "display": null,
      "flex": null,
      "flex_flow": null,
      "grid_area": null,
      "grid_auto_columns": null,
      "grid_auto_flow": null,
      "grid_auto_rows": null,
      "grid_column": null,
      "grid_gap": null,
      "grid_row": null,
      "grid_template_areas": null,
      "grid_template_columns": null,
      "grid_template_rows": null,
      "height": null,
      "justify_content": null,
      "justify_items": null,
      "left": null,
      "margin": null,
      "max_height": null,
      "max_width": null,
      "min_height": null,
      "min_width": null,
      "object_fit": null,
      "object_position": null,
      "order": null,
      "overflow": null,
      "overflow_x": null,
      "overflow_y": null,
      "padding": null,
      "right": null,
      "top": null,
      "visibility": null,
      "width": null
     }
    },
    "83926bd9cbd848dfab2719c229292fe1": {
     "model_module": "@jupyter-widgets/base",
     "model_name": "LayoutModel",
     "state": {
      "_model_module": "@jupyter-widgets/base",
      "_model_module_version": "1.2.0",
      "_model_name": "LayoutModel",
      "_view_count": null,
      "_view_module": "@jupyter-widgets/base",
      "_view_module_version": "1.2.0",
      "_view_name": "LayoutView",
      "align_content": null,
      "align_items": null,
      "align_self": null,
      "border": null,
      "bottom": null,
      "display": null,
      "flex": null,
      "flex_flow": null,
      "grid_area": null,
      "grid_auto_columns": null,
      "grid_auto_flow": null,
      "grid_auto_rows": null,
      "grid_column": null,
      "grid_gap": null,
      "grid_row": null,
      "grid_template_areas": null,
      "grid_template_columns": null,
      "grid_template_rows": null,
      "height": null,
      "justify_content": null,
      "justify_items": null,
      "left": null,
      "margin": null,
      "max_height": null,
      "max_width": null,
      "min_height": null,
      "min_width": null,
      "object_fit": null,
      "object_position": null,
      "order": null,
      "overflow": null,
      "overflow_x": null,
      "overflow_y": null,
      "padding": null,
      "right": null,
      "top": null,
      "visibility": null,
      "width": null
     }
    },
    "910a357697984a028f65c2b717f5d9c4": {
     "model_module": "@jupyter-widgets/base",
     "model_name": "LayoutModel",
     "state": {
      "_model_module": "@jupyter-widgets/base",
      "_model_module_version": "1.2.0",
      "_model_name": "LayoutModel",
      "_view_count": null,
      "_view_module": "@jupyter-widgets/base",
      "_view_module_version": "1.2.0",
      "_view_name": "LayoutView",
      "align_content": null,
      "align_items": null,
      "align_self": null,
      "border": null,
      "bottom": null,
      "display": null,
      "flex": null,
      "flex_flow": null,
      "grid_area": null,
      "grid_auto_columns": null,
      "grid_auto_flow": null,
      "grid_auto_rows": null,
      "grid_column": null,
      "grid_gap": null,
      "grid_row": null,
      "grid_template_areas": null,
      "grid_template_columns": null,
      "grid_template_rows": null,
      "height": null,
      "justify_content": null,
      "justify_items": null,
      "left": null,
      "margin": null,
      "max_height": null,
      "max_width": null,
      "min_height": null,
      "min_width": null,
      "object_fit": null,
      "object_position": null,
      "order": null,
      "overflow": null,
      "overflow_x": null,
      "overflow_y": null,
      "padding": null,
      "right": null,
      "top": null,
      "visibility": null,
      "width": null
     }
    },
    "9f079150317e44c39a0151014680de11": {
     "model_module": "@jupyter-widgets/controls",
     "model_name": "FloatProgressModel",
     "state": {
      "_dom_classes": [],
      "_model_module": "@jupyter-widgets/controls",
      "_model_module_version": "1.5.0",
      "_model_name": "FloatProgressModel",
      "_view_count": null,
      "_view_module": "@jupyter-widgets/controls",
      "_view_module_version": "1.5.0",
      "_view_name": "ProgressView",
      "bar_style": "success",
      "description": "Downloading: 100%",
      "description_tooltip": null,
      "layout": "IPY_MODEL_747c04b8a74b412abdadca5262cc7d8d",
      "max": 898823,
      "min": 0,
      "orientation": "horizontal",
      "style": "IPY_MODEL_5103d79fce5145af90f6da8c022cc2c2",
      "value": 898823
     }
    },
    "a841ea467a6a474592cd157e1a29479e": {
     "model_module": "@jupyter-widgets/controls",
     "model_name": "HTMLModel",
     "state": {
      "_dom_classes": [],
      "_model_module": "@jupyter-widgets/controls",
      "_model_module_version": "1.5.0",
      "_model_name": "HTMLModel",
      "_view_count": null,
      "_view_module": "@jupyter-widgets/controls",
      "_view_module_version": "1.5.0",
      "_view_name": "HTMLView",
      "description": "",
      "description_tooltip": null,
      "layout": "IPY_MODEL_1064be60690d4e01ba35a8ba8b62f70f",
      "placeholder": "​",
      "style": "IPY_MODEL_309186a7847d4ed6a62f144017cec586",
      "value": " 1.52k/1.52k [00:47&lt;00:00, 32.0B/s]"
     }
    },
    "af4d9d80f6fd4b238b7996a5495134d4": {
     "model_module": "@jupyter-widgets/controls",
     "model_name": "DescriptionStyleModel",
     "state": {
      "_model_module": "@jupyter-widgets/controls",
      "_model_module_version": "1.5.0",
      "_model_name": "DescriptionStyleModel",
      "_view_count": null,
      "_view_module": "@jupyter-widgets/base",
      "_view_module_version": "1.2.0",
      "_view_name": "StyleView",
      "description_width": ""
     }
    },
    "b14178e3196d46e9944b35f2b193bcf3": {
     "model_module": "@jupyter-widgets/controls",
     "model_name": "FloatProgressModel",
     "state": {
      "_dom_classes": [],
      "_model_module": "@jupyter-widgets/controls",
      "_model_module_version": "1.5.0",
      "_model_name": "FloatProgressModel",
      "_view_count": null,
      "_view_module": "@jupyter-widgets/controls",
      "_view_module_version": "1.5.0",
      "_view_name": "ProgressView",
      "bar_style": "success",
      "description": "Downloading: 100%",
      "description_tooltip": null,
      "layout": "IPY_MODEL_f794dc9c62f64b219d1aee8dc212d8c6",
      "max": 456318,
      "min": 0,
      "orientation": "horizontal",
      "style": "IPY_MODEL_4bfca2b4478e4a7ca9fa13aecba905b6",
      "value": 456318
     }
    },
    "becc5d5cd8b743f58a5c56d8b2ecc1fd": {
     "model_module": "@jupyter-widgets/controls",
     "model_name": "DescriptionStyleModel",
     "state": {
      "_model_module": "@jupyter-widgets/controls",
      "_model_module_version": "1.5.0",
      "_model_name": "DescriptionStyleModel",
      "_view_count": null,
      "_view_module": "@jupyter-widgets/base",
      "_view_module_version": "1.2.0",
      "_view_name": "StyleView",
      "description_width": ""
     }
    },
    "bf8ccfb4a3174ad081981cb3babba7ae": {
     "model_module": "@jupyter-widgets/controls",
     "model_name": "HBoxModel",
     "state": {
      "_dom_classes": [],
      "_model_module": "@jupyter-widgets/controls",
      "_model_module_version": "1.5.0",
      "_model_name": "HBoxModel",
      "_view_count": null,
      "_view_module": "@jupyter-widgets/controls",
      "_view_module_version": "1.5.0",
      "_view_name": "HBoxView",
      "box_style": "",
      "children": [
       "IPY_MODEL_9f079150317e44c39a0151014680de11",
       "IPY_MODEL_50236a8de12f4d92a17f58dbf70cc6b9"
      ],
      "layout": "IPY_MODEL_910a357697984a028f65c2b717f5d9c4"
     }
    },
    "c076448911a14ef7bf6138527824bc5a": {
     "model_module": "@jupyter-widgets/base",
     "model_name": "LayoutModel",
     "state": {
      "_model_module": "@jupyter-widgets/base",
      "_model_module_version": "1.2.0",
      "_model_name": "LayoutModel",
      "_view_count": null,
      "_view_module": "@jupyter-widgets/base",
      "_view_module_version": "1.2.0",
      "_view_name": "LayoutView",
      "align_content": null,
      "align_items": null,
      "align_self": null,
      "border": null,
      "bottom": null,
      "display": null,
      "flex": null,
      "flex_flow": null,
      "grid_area": null,
      "grid_auto_columns": null,
      "grid_auto_flow": null,
      "grid_auto_rows": null,
      "grid_column": null,
      "grid_gap": null,
      "grid_row": null,
      "grid_template_areas": null,
      "grid_template_columns": null,
      "grid_template_rows": null,
      "height": null,
      "justify_content": null,
      "justify_items": null,
      "left": null,
      "margin": null,
      "max_height": null,
      "max_width": null,
      "min_height": null,
      "min_width": null,
      "object_fit": null,
      "object_position": null,
      "order": null,
      "overflow": null,
      "overflow_x": null,
      "overflow_y": null,
      "padding": null,
      "right": null,
      "top": null,
      "visibility": null,
      "width": null
     }
    },
    "c892154f7b00413a9222f2d48a15a457": {
     "model_module": "@jupyter-widgets/base",
     "model_name": "LayoutModel",
     "state": {
      "_model_module": "@jupyter-widgets/base",
      "_model_module_version": "1.2.0",
      "_model_name": "LayoutModel",
      "_view_count": null,
      "_view_module": "@jupyter-widgets/base",
      "_view_module_version": "1.2.0",
      "_view_name": "LayoutView",
      "align_content": null,
      "align_items": null,
      "align_self": null,
      "border": null,
      "bottom": null,
      "display": null,
      "flex": null,
      "flex_flow": null,
      "grid_area": null,
      "grid_auto_columns": null,
      "grid_auto_flow": null,
      "grid_auto_rows": null,
      "grid_column": null,
      "grid_gap": null,
      "grid_row": null,
      "grid_template_areas": null,
      "grid_template_columns": null,
      "grid_template_rows": null,
      "height": null,
      "justify_content": null,
      "justify_items": null,
      "left": null,
      "margin": null,
      "max_height": null,
      "max_width": null,
      "min_height": null,
      "min_width": null,
      "object_fit": null,
      "object_position": null,
      "order": null,
      "overflow": null,
      "overflow_x": null,
      "overflow_y": null,
      "padding": null,
      "right": null,
      "top": null,
      "visibility": null,
      "width": null
     }
    },
    "e1f42ed006e441dcb65a86f26265ef98": {
     "model_module": "@jupyter-widgets/base",
     "model_name": "LayoutModel",
     "state": {
      "_model_module": "@jupyter-widgets/base",
      "_model_module_version": "1.2.0",
      "_model_name": "LayoutModel",
      "_view_count": null,
      "_view_module": "@jupyter-widgets/base",
      "_view_module_version": "1.2.0",
      "_view_name": "LayoutView",
      "align_content": null,
      "align_items": null,
      "align_self": null,
      "border": null,
      "bottom": null,
      "display": null,
      "flex": null,
      "flex_flow": null,
      "grid_area": null,
      "grid_auto_columns": null,
      "grid_auto_flow": null,
      "grid_auto_rows": null,
      "grid_column": null,
      "grid_gap": null,
      "grid_row": null,
      "grid_template_areas": null,
      "grid_template_columns": null,
      "grid_template_rows": null,
      "height": null,
      "justify_content": null,
      "justify_items": null,
      "left": null,
      "margin": null,
      "max_height": null,
      "max_width": null,
      "min_height": null,
      "min_width": null,
      "object_fit": null,
      "object_position": null,
      "order": null,
      "overflow": null,
      "overflow_x": null,
      "overflow_y": null,
      "padding": null,
      "right": null,
      "top": null,
      "visibility": null,
      "width": null
     }
    },
    "f794dc9c62f64b219d1aee8dc212d8c6": {
     "model_module": "@jupyter-widgets/base",
     "model_name": "LayoutModel",
     "state": {
      "_model_module": "@jupyter-widgets/base",
      "_model_module_version": "1.2.0",
      "_model_name": "LayoutModel",
      "_view_count": null,
      "_view_module": "@jupyter-widgets/base",
      "_view_module_version": "1.2.0",
      "_view_name": "LayoutView",
      "align_content": null,
      "align_items": null,
      "align_self": null,
      "border": null,
      "bottom": null,
      "display": null,
      "flex": null,
      "flex_flow": null,
      "grid_area": null,
      "grid_auto_columns": null,
      "grid_auto_flow": null,
      "grid_auto_rows": null,
      "grid_column": null,
      "grid_gap": null,
      "grid_row": null,
      "grid_template_areas": null,
      "grid_template_columns": null,
      "grid_template_rows": null,
      "height": null,
      "justify_content": null,
      "justify_items": null,
      "left": null,
      "margin": null,
      "max_height": null,
      "max_width": null,
      "min_height": null,
      "min_width": null,
      "object_fit": null,
      "object_position": null,
      "order": null,
      "overflow": null,
      "overflow_x": null,
      "overflow_y": null,
      "padding": null,
      "right": null,
      "top": null,
      "visibility": null,
      "width": null
     }
    },
    "f99fb1d93b714344a59f4806316bb8cf": {
     "model_module": "@jupyter-widgets/controls",
     "model_name": "HTMLModel",
     "state": {
      "_dom_classes": [],
      "_model_module": "@jupyter-widgets/controls",
      "_model_module_version": "1.5.0",
      "_model_name": "HTMLModel",
      "_view_count": null,
      "_view_module": "@jupyter-widgets/controls",
      "_view_module_version": "1.5.0",
      "_view_name": "HTMLView",
      "description": "",
      "description_tooltip": null,
      "layout": "IPY_MODEL_76ae20484ea04184925dda377e78f009",
      "placeholder": "​",
      "style": "IPY_MODEL_1fe0cbf22cad4d5f9fe9e08a5f7eef2d",
      "value": " 456k/456k [00:00&lt;00:00, 1.24MB/s]"
     }
    },
    "fbaaee5330f24737b448f4a885ee47b5": {
     "model_module": "@jupyter-widgets/controls",
     "model_name": "ProgressStyleModel",
     "state": {
      "_model_module": "@jupyter-widgets/controls",
      "_model_module_version": "1.5.0",
      "_model_name": "ProgressStyleModel",
      "_view_count": null,
      "_view_module": "@jupyter-widgets/base",
      "_view_module_version": "1.2.0",
      "_view_name": "StyleView",
      "bar_color": null,
      "description_width": "initial"
     }
    }
   }
  }
 },
 "nbformat": 4,
 "nbformat_minor": 1
}
