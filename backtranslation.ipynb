{
 "cells": [
  {
   "cell_type": "markdown",
   "metadata": {},
   "source": [
    "# Notebook to produce backtranslated versions of training texts"
   ]
  },
  {
   "cell_type": "code",
   "execution_count": 1,
   "metadata": {},
   "outputs": [],
   "source": [
    "%load_ext autoreload\n",
    "%autoreload 2"
   ]
  },
  {
   "cell_type": "markdown",
   "metadata": {},
   "source": [
    "## Load resources"
   ]
  },
  {
   "cell_type": "code",
   "execution_count": 2,
   "metadata": {},
   "outputs": [],
   "source": [
    "from data import load_data\n",
    "\n",
    "train, val, test = load_data()"
   ]
  },
  {
   "cell_type": "code",
   "execution_count": 3,
   "metadata": {},
   "outputs": [],
   "source": [
    "full = train.append(val)"
   ]
  },
  {
   "cell_type": "code",
   "execution_count": 4,
   "metadata": {},
   "outputs": [
    {
     "data": {
      "text/html": [
       "<div>\n",
       "<style scoped>\n",
       "    .dataframe tbody tr th:only-of-type {\n",
       "        vertical-align: middle;\n",
       "    }\n",
       "\n",
       "    .dataframe tbody tr th {\n",
       "        vertical-align: top;\n",
       "    }\n",
       "\n",
       "    .dataframe thead th {\n",
       "        text-align: right;\n",
       "    }\n",
       "</style>\n",
       "<table border=\"1\" class=\"dataframe\">\n",
       "  <thead>\n",
       "    <tr style=\"text-align: right;\">\n",
       "      <th></th>\n",
       "      <th>name</th>\n",
       "      <th>description</th>\n",
       "    </tr>\n",
       "  </thead>\n",
       "  <tbody>\n",
       "    <tr>\n",
       "      <th>25291</th>\n",
       "      <td>fabric tote bag</td>\n",
       "      <td>tote bag in a combination of colours. braided ...</td>\n",
       "    </tr>\n",
       "    <tr>\n",
       "      <th>5328</th>\n",
       "      <td>knit cardigan with ruffle trims</td>\n",
       "      <td>knit cardigan with a round neck. featuring lon...</td>\n",
       "    </tr>\n",
       "    <tr>\n",
       "      <th>28974</th>\n",
       "      <td>mercurised glass soap dish</td>\n",
       "      <td>mercurised glass soap dish.</td>\n",
       "    </tr>\n",
       "    <tr>\n",
       "      <th>10697</th>\n",
       "      <td>joggers</td>\n",
       "      <td>relaxed fit trousers made of a linen blend. fe...</td>\n",
       "    </tr>\n",
       "    <tr>\n",
       "      <th>8656</th>\n",
       "      <td>ribbed knit cardigan</td>\n",
       "      <td>cardigan with round neckline, long sleeves and...</td>\n",
       "    </tr>\n",
       "    <tr>\n",
       "      <th>...</th>\n",
       "      <td>...</td>\n",
       "      <td>...</td>\n",
       "    </tr>\n",
       "    <tr>\n",
       "      <th>31096</th>\n",
       "      <td>water lily voile dress</td>\n",
       "      <td>children's dress featuring a water lily print ...</td>\n",
       "    </tr>\n",
       "    <tr>\n",
       "      <th>9682</th>\n",
       "      <td>striped sweatshirt</td>\n",
       "      <td>long sleeve hoodie. button fastening on the yo...</td>\n",
       "    </tr>\n",
       "    <tr>\n",
       "      <th>2355</th>\n",
       "      <td>ruffled t-shirt trf</td>\n",
       "      <td>round neck t-shirt with short sleeves and a ru...</td>\n",
       "    </tr>\n",
       "    <tr>\n",
       "      <th>31358</th>\n",
       "      <td>pine cone and sleigh bells napkin holders (pac...</td>\n",
       "      <td>napkin holder with faux twigs, pine cone, slei...</td>\n",
       "    </tr>\n",
       "    <tr>\n",
       "      <th>9442</th>\n",
       "      <td>sequinned heart sweatshirt</td>\n",
       "      <td>long sleeve sweatshirt with a round neckline, ...</td>\n",
       "    </tr>\n",
       "  </tbody>\n",
       "</table>\n",
       "<p>37210 rows × 2 columns</p>\n",
       "</div>"
      ],
      "text/plain": [
       "                                                    name  \\\n",
       "25291                                    fabric tote bag   \n",
       "5328                     knit cardigan with ruffle trims   \n",
       "28974                         mercurised glass soap dish   \n",
       "10697                                            joggers   \n",
       "8656                                ribbed knit cardigan   \n",
       "...                                                  ...   \n",
       "31096                             water lily voile dress   \n",
       "9682                                  striped sweatshirt   \n",
       "2355                                 ruffled t-shirt trf   \n",
       "31358  pine cone and sleigh bells napkin holders (pac...   \n",
       "9442                          sequinned heart sweatshirt   \n",
       "\n",
       "                                             description  \n",
       "25291  tote bag in a combination of colours. braided ...  \n",
       "5328   knit cardigan with a round neck. featuring lon...  \n",
       "28974                        mercurised glass soap dish.  \n",
       "10697  relaxed fit trousers made of a linen blend. fe...  \n",
       "8656   cardigan with round neckline, long sleeves and...  \n",
       "...                                                  ...  \n",
       "31096  children's dress featuring a water lily print ...  \n",
       "9682   long sleeve hoodie. button fastening on the yo...  \n",
       "2355   round neck t-shirt with short sleeves and a ru...  \n",
       "31358  napkin holder with faux twigs, pine cone, slei...  \n",
       "9442   long sleeve sweatshirt with a round neckline, ...  \n",
       "\n",
       "[37210 rows x 2 columns]"
      ]
     },
     "execution_count": 4,
     "metadata": {},
     "output_type": "execute_result"
    }
   ],
   "source": [
    "full"
   ]
  },
  {
   "cell_type": "markdown",
   "metadata": {},
   "source": [
    "Compute number of characters to translate"
   ]
  },
  {
   "cell_type": "code",
   "execution_count": 5,
   "metadata": {},
   "outputs": [
    {
     "data": {
      "text/plain": [
       "4579038"
      ]
     },
     "execution_count": 5,
     "metadata": {},
     "output_type": "execute_result"
    }
   ],
   "source": [
    "sum([len(x) for x in full[\"description\"]])"
   ]
  },
  {
   "cell_type": "markdown",
   "metadata": {},
   "source": [
    "## Backtranslation tests using MarianMT"
   ]
  },
  {
   "cell_type": "code",
   "execution_count": null,
   "metadata": {},
   "outputs": [],
   "source": [
    "from transformers import MarianMTModel, MarianTokenizer\n",
    "src_text = [\n",
    "    '>>fra<< this is a sentence in english that we want to translate to french',\n",
    "    '>>por<< This should go to portuguese',\n",
    "    '>>esp<< And this to Spanish'\n",
    "]\n",
    "\n",
    "model_name = 'Helsinki-NLP/opus-mt-en-roa'\n",
    "tokenizer = MarianTokenizer.from_pretrained(model_name)\n",
    "print(tokenizer.supported_language_codes)\n",
    "model = MarianMTModel.from_pretrained(model_name)\n",
    "translated = model.generate(**tokenizer.prepare_seq2seq_batch(src_text, return_tensors=\"pt\"))\n",
    "tgt_text = [tokenizer.decode(t, skip_special_tokens=True) for t in translated]\n",
    "# [\"c'est une phrase en anglais que nous voulons traduire en français\",\n",
    "# 'Isto deve ir para o português.',\n",
    "# 'Y esto al español']"
   ]
  },
  {
   "cell_type": "code",
   "execution_count": 6,
   "metadata": {},
   "outputs": [],
   "source": [
    "src_text = list(full[\"description\"][:8])"
   ]
  },
  {
   "cell_type": "code",
   "execution_count": 7,
   "metadata": {},
   "outputs": [
    {
     "data": {
      "text/plain": [
       "['tote bag in a combination of colours. braided exterior in a combination of materials. shoulder straps with a decorative stud. lined interior with pocket and zip purse. magnetic clasp closure.height x length x width 26.3 x 38.5 x 14.5 cm. / 10.3 x 15.1 x 5.7″',\n",
       " 'knit cardigan with a round neck. featuring long sleeves with ruffled cuffs, a button-up front and ribbed trims.',\n",
       " 'mercurised glass soap dish.',\n",
       " 'relaxed fit trousers made of a linen blend. featuring an elastic drawstring waistband, front pockets and a rear patch pocket.',\n",
       " 'cardigan with round neckline, long sleeves and button-up fastening.',\n",
       " 'relaxed fit bermuda shorts featuring an elastic drawstring waist, side pockets and rear patch pocket.',\n",
       " 'v-neck top featuring wide straps, an elastic waist and ruffled hem.',\n",
       " 't-shirt with a round neckline, long sleeves and a front print with velvet detail.']"
      ]
     },
     "execution_count": 7,
     "metadata": {},
     "output_type": "execute_result"
    }
   ],
   "source": [
    "src_text"
   ]
  },
  {
   "cell_type": "code",
   "execution_count": 11,
   "metadata": {},
   "outputs": [],
   "source": [
    "from itertools import chain\n",
    "from tqdm import tqdm\n",
    "import torch\n",
    "from transformers import MarianMTModel, MarianTokenizer\n",
    "\n",
    "from model import splitevery\n",
    "\n",
    "def backtranslate(texts, source_lang=\"en\", target_lang=\"es\", batch_size=8):\n",
    "    torch_device = 'cuda' if torch.cuda.is_available() else 'cpu'\n",
    "    # Prepare tokenizer and model for forward translation\n",
    "    model_name = f'Helsinki-NLP/opus-mt-{source_lang}-{target_lang}'\n",
    "    tokenizer = MarianTokenizer.from_pretrained(model_name)\n",
    "    model = MarianMTModel.from_pretrained(model_name).to(torch_device)\n",
    "    # Prepare tokenizer and model for backward translation\n",
    "    inverse_model_name = f'Helsinki-NLP/opus-mt-{target_lang}-{source_lang}'\n",
    "    inverse_tokenizer = MarianTokenizer.from_pretrained(inverse_model_name)\n",
    "    inverse_model = MarianMTModel.from_pretrained(inverse_model_name).to(torch_device)\n",
    "    \n",
    "    # Split input texts in sentences\n",
    "    splitted = [text.split(\".\") for text in texts]\n",
    "    \n",
    "    # Backtranslate in batches\n",
    "    splitted_backtranslations = []\n",
    "    for batch in tqdm(splitevery(chain(*splitted), batch_size)):\n",
    "        translated = model.generate(**tokenizer.prepare_seq2seq_batch(batch, return_tensors=\"pt\").to(torch_device))\n",
    "        tgt_text = [tokenizer.decode(t, skip_special_tokens=True) for t in translated]\n",
    "        translated = inverse_model.generate(**inverse_tokenizer.prepare_seq2seq_batch(tgt_text, return_tensors=\"pt\").to(torch_device))\n",
    "        bck_text = [inverse_tokenizer.decode(t, skip_special_tokens=True) for t in translated]\n",
    "        splitted_backtranslations.extend(bck_text)\n",
    "        \n",
    "    # Restore original texts\n",
    "    backtranslations = []\n",
    "    i = 0\n",
    "    for splitted_text in splitted:\n",
    "        backtranslations.append(\" . \".join(splitted_backtranslations[i:i+len(splitted_text)]))\n",
    "        i += len(splitted_text)\n",
    "        \n",
    "    return backtranslations"
   ]
  },
  {
   "cell_type": "code",
   "execution_count": 14,
   "metadata": {},
   "outputs": [
    {
     "name": "stderr",
     "output_type": "stream",
     "text": [
      "4it [00:22,  5.69s/it]\n"
     ]
    },
    {
     "data": {
      "text/plain": [
       "['Tote bag in a color combination . external braided in combination of materials . shoulder straps with decorative taco . interior lined with pocket and wallet with zipper . magnetic closure . height x length x width 26 . 3 x 38 . 5 x 14 . 5 cm . 1 / 10 . 3 x 15 . 1 x 5 . 7′′',\n",
       " 'knitted cardigan with round neck . with long sleeves with steering cuffs, a buttoned front and ribbed ribs . - No, no, no, no, no, no, no, no, no, no, no, no, no, no, no, no, no, no, no, no, no, no, no, no, no, no, no, no, no, no, no, no, no, no, no, no, no, no, no, no.',\n",
       " 'Mercurized glass soap . - No, no, no, no, no, no, no, no, no, no, no, no, no, no, no, no, no, no, no, no, no, no, no, no, no, no, no, no, no, no, no, no, no, no, no, no, no, no, no, no.',\n",
       " 'relaxed fit pants made of a linen mixture . with an elastic cord waistband, front pockets and a back pocket . - No, no, no, no, no, no, no, no, no, no, no, no, no, no, no, no, no, no, no, no, no, no, no, no, no, no, no, no, no, no, no, no, no, no, no, no, no, no, no, no.',\n",
       " 'cardigan with round neckline, long sleeve and button closure . - No, no, no, no, no, no, no, no, no, no, no, no, no, no, no, no, no, no, no, no, no, no, no, no, no, no, no, no, no, no, no, no, no, no, no, no, no, no, no, no.',\n",
       " 'relaxed fit bermuda shorts with elastic cord waistband, side pockets and rear patch pocket . - No, no, no, no, no, no, no, no, no, no, no, no, no, no, no, no, no, no, no, no, no, no, no, no, no, no, no, no, no, no, no, no, no, no, no, no, no, no, no, no.',\n",
       " 'Top V-neck with wide straps, elastic waistband and steering hem . - No, no, no, no, no, no, no, no, no, no, no, no, no, no, no, no, no, no, no, no, no, no, no, no, no, no, no, no, no, no, no, no, no, no, no, no, no, no, no, no.',\n",
       " 'T-shirt with round neckline, long sleeve and front print with velvet detail . - No, no, no, no, no, no, no, no, no, no, no, no, no, no, no, no, no, no, no, no, no, no, no, no, no, no, no, no, no, no, no, no, no, no, no, no, no, no, no, no.']"
      ]
     },
     "execution_count": 14,
     "metadata": {},
     "output_type": "execute_result"
    }
   ],
   "source": [
    "src_text = list(full[\"description\"][:8])\n",
    "backtranslations = backtranslate(src_text, target_lang=\"es\")\n",
    "backtranslations"
   ]
  },
  {
   "cell_type": "code",
   "execution_count": 15,
   "metadata": {},
   "outputs": [
    {
     "data": {
      "text/plain": [
       "[('tote bag in a combination of colours. braided exterior in a combination of materials. shoulder straps with a decorative stud. lined interior with pocket and zip purse. magnetic clasp closure.height x length x width 26.3 x 38.5 x 14.5 cm. / 10.3 x 15.1 x 5.7″',\n",
       "  'Tote bag in a color combination . external braided in combination of materials . shoulder straps with decorative taco . interior lined with pocket and wallet with zipper . magnetic closure . height x length x width 26 . 3 x 38 . 5 x 14 . 5 cm . 1 / 10 . 3 x 15 . 1 x 5 . 7′′'),\n",
       " ('knit cardigan with a round neck. featuring long sleeves with ruffled cuffs, a button-up front and ribbed trims.',\n",
       "  'knitted cardigan with round neck . with long sleeves with steering cuffs, a buttoned front and ribbed ribs . - No, no, no, no, no, no, no, no, no, no, no, no, no, no, no, no, no, no, no, no, no, no, no, no, no, no, no, no, no, no, no, no, no, no, no, no, no, no, no, no.'),\n",
       " ('mercurised glass soap dish.',\n",
       "  'Mercurized glass soap . - No, no, no, no, no, no, no, no, no, no, no, no, no, no, no, no, no, no, no, no, no, no, no, no, no, no, no, no, no, no, no, no, no, no, no, no, no, no, no, no.'),\n",
       " ('relaxed fit trousers made of a linen blend. featuring an elastic drawstring waistband, front pockets and a rear patch pocket.',\n",
       "  'relaxed fit pants made of a linen mixture . with an elastic cord waistband, front pockets and a back pocket . - No, no, no, no, no, no, no, no, no, no, no, no, no, no, no, no, no, no, no, no, no, no, no, no, no, no, no, no, no, no, no, no, no, no, no, no, no, no, no, no.'),\n",
       " ('cardigan with round neckline, long sleeves and button-up fastening.',\n",
       "  'cardigan with round neckline, long sleeve and button closure . - No, no, no, no, no, no, no, no, no, no, no, no, no, no, no, no, no, no, no, no, no, no, no, no, no, no, no, no, no, no, no, no, no, no, no, no, no, no, no, no.'),\n",
       " ('relaxed fit bermuda shorts featuring an elastic drawstring waist, side pockets and rear patch pocket.',\n",
       "  'relaxed fit bermuda shorts with elastic cord waistband, side pockets and rear patch pocket . - No, no, no, no, no, no, no, no, no, no, no, no, no, no, no, no, no, no, no, no, no, no, no, no, no, no, no, no, no, no, no, no, no, no, no, no, no, no, no, no.'),\n",
       " ('v-neck top featuring wide straps, an elastic waist and ruffled hem.',\n",
       "  'Top V-neck with wide straps, elastic waistband and steering hem . - No, no, no, no, no, no, no, no, no, no, no, no, no, no, no, no, no, no, no, no, no, no, no, no, no, no, no, no, no, no, no, no, no, no, no, no, no, no, no, no.'),\n",
       " ('t-shirt with a round neckline, long sleeves and a front print with velvet detail.',\n",
       "  'T-shirt with round neckline, long sleeve and front print with velvet detail . - No, no, no, no, no, no, no, no, no, no, no, no, no, no, no, no, no, no, no, no, no, no, no, no, no, no, no, no, no, no, no, no, no, no, no, no, no, no, no, no.')]"
      ]
     },
     "execution_count": 15,
     "metadata": {},
     "output_type": "execute_result"
    }
   ],
   "source": [
    "list(zip(src_text, backtranslations))"
   ]
  },
  {
   "cell_type": "markdown",
   "metadata": {},
   "source": [
    "Poor quality translations, specially when compared against deepL"
   ]
  },
  {
   "cell_type": "markdown",
   "metadata": {},
   "source": [
    "## Try with T5"
   ]
  },
  {
   "cell_type": "code",
   "execution_count": null,
   "metadata": {},
   "outputs": [],
   "source": [
    "from transformers import T5ForConditionalGeneration\n",
    "\n",
    "t5 = T5ForConditionalGeneration.from_pretrained(\"t5-small\")"
   ]
  },
  {
   "cell_type": "code",
   "execution_count": null,
   "metadata": {},
   "outputs": [],
   "source": [
    "from transformers import AutoTokenizer\n",
    "\n",
    "t5_tokenizer = AutoTokenizer.from_pretrained(\"t5-small\")"
   ]
  },
  {
   "cell_type": "code",
   "execution_count": null,
   "metadata": {},
   "outputs": [],
   "source": [
    "src_text = list(full[\"description\"][:8])"
   ]
  },
  {
   "cell_type": "code",
   "execution_count": null,
   "metadata": {},
   "outputs": [],
   "source": [
    "generated = t5.generate(**t5_tokenizer.prepare_seq2seq_batch([\"translate English to German: \" + x for x in src_text], return_tensors=\"pt\"))"
   ]
  },
  {
   "cell_type": "code",
   "execution_count": null,
   "metadata": {},
   "outputs": [],
   "source": [
    "generated"
   ]
  },
  {
   "cell_type": "code",
   "execution_count": null,
   "metadata": {},
   "outputs": [],
   "source": [
    "tgt_text = [t5_tokenizer.decode(t, skip_special_tokens=True) for t in generated]"
   ]
  },
  {
   "cell_type": "code",
   "execution_count": null,
   "metadata": {},
   "outputs": [],
   "source": [
    "tgt_text"
   ]
  },
  {
   "cell_type": "code",
   "execution_count": null,
   "metadata": {},
   "outputs": [],
   "source": [
    "generated = t5.generate(**t5_tokenizer.prepare_seq2seq_batch([\"translate German to English: \" + x for x in src_text], return_tensors=\"pt\"))\n",
    "backtranslations = [t5_tokenizer.decode(t, skip_special_tokens=True) for t in generated]"
   ]
  },
  {
   "cell_type": "code",
   "execution_count": null,
   "metadata": {},
   "outputs": [],
   "source": [
    "backtranslations"
   ]
  },
  {
   "cell_type": "markdown",
   "metadata": {},
   "source": [
    "Doesn't work in reversal..."
   ]
  },
  {
   "cell_type": "markdown",
   "metadata": {},
   "source": [
    "## Paraphrasing with Pegasus fine-tuned model"
   ]
  },
  {
   "cell_type": "code",
   "execution_count": 1,
   "metadata": {},
   "outputs": [],
   "source": [
    "import torch\n",
    "from transformers import PegasusForConditionalGeneration, PegasusTokenizer\n",
    "\n",
    "model_name = 'tuner007/pegasus_paraphrase'\n",
    "\n",
    "torch_device = 'cuda' if torch.cuda.is_available() else 'cpu'\n",
    "\n",
    "tokenizer = PegasusTokenizer.from_pretrained(model_name)\n",
    "model = PegasusForConditionalGeneration.from_pretrained(model_name).to(torch_device)"
   ]
  },
  {
   "cell_type": "code",
   "execution_count": 7,
   "metadata": {},
   "outputs": [],
   "source": [
    "def get_response(input_text, num_return_sequences):\n",
    "    batch = tokenizer.prepare_seq2seq_batch([input_text], truncation=True, padding='longest', return_tensors=\"pt\").to(torch_device)\n",
    "    translated = model.generate(**batch, num_beams=10, num_return_sequences=num_return_sequences, temperature=1.5)\n",
    "    tgt_text = tokenizer.batch_decode(translated, skip_special_tokens=True)\n",
    "    return tgt_text"
   ]
  },
  {
   "cell_type": "code",
   "execution_count": 8,
   "metadata": {},
   "outputs": [],
   "source": [
    "src_text = full[\"description\"][0]\n",
    "paraphrased = []\n",
    "for txt in src_text.split(\".\"):\n",
    "    paraphrased.append(get_response(txt, 8))"
   ]
  },
  {
   "cell_type": "code",
   "execution_count": 9,
   "metadata": {},
   "outputs": [
    {
     "name": "stdout",
     "output_type": "stream",
     "text": [
      "jacket made of a technical fabric with texture. high collar and long sleeves. front pockets. ribbed trims. zip-up front.\n"
     ]
    }
   ],
   "source": [
    "print(src_text)"
   ]
  },
  {
   "cell_type": "code",
   "execution_count": 10,
   "metadata": {},
   "outputs": [
    {
     "name": "stdout",
     "output_type": "stream",
     "text": [
      "[['A jacket made of a technical fabric.', 'The jacket is made of a technical fabric.', 'A jacket made of technical fabric.', 'The jacket was made of a technical fabric.', 'A jacket made from a technical fabric.', 'There is a jacket made of a technical fabric.', 'A jacket is made of a technical fabric.', 'A jacket made of fabric.'], ['There is a high collar and long sleeves.', 'The collar and sleeves are long.', 'There are long sleeves and a high collar.', 'The collar is high and the sleeves are long.', 'A high collar and long sleeves.', 'Long sleeves and a high collar.', 'high collar and long sleeves.', 'High collar and long sleeves.'], ['There are front pockets.', 'There are pockets in front of them.', 'There are pockets in the front.', 'The front pockets have something in them.', 'Front pockets.', 'The front pockets have something on them.', 'The front pockets are large.', 'The front pockets have something inside them.'], ['ribbed trims.', 'ribbed trims', 'ribbed trims are ribbed.', 'The trims are ribbed.', 'ribbed trims are made of ribbed trims.', 'There are ribbed trims.', 'ribbed trims that are ribbed.', 'ribbed trims are made of ribbed material.'], ['There is a zip-up front.', 'The front is zip-up.', 'The front zip-up.', 'The front zips up.', \"It's a zip-up front.\", 'The front of the vehicle is zip-up.', 'The front has a zip-up.', 'There is a zip-up front'], [\"It's not like it's like it's like it's like it's like it's like it's like it's like it's like it's like it's like it's like it's like it's like it\", \"It's not like it's like it's like it's like it's like it's like it's like it's like it's like it's like it's like it's like it's like it's like\", \"It's not like it's like it's like it's like it's like it's like it's like it's like it's like it's like it's like it's like it's like\", \"It's not like it's like it's like it's like it's like it's like it's like it's like it's like it's like it's like it's like it's like it's\", \"It's not like it's like it's like it's like it's like it's like it's like it's like it's like it's like it's like it's like\", \"It's not like it's like it's like it's like it's like it's like it's like it's like it's like it's like it's like it's like it's\", \"It's not like it's like it's like it's like it's like it's like it's like it's like it's like it's like it's like it's\", \"It's not like it's like it's like it's like it's like it's like it's like it's like it's like it's like it's like\"]]\n"
     ]
    }
   ],
   "source": [
    "print(paraphrased)"
   ]
  },
  {
   "cell_type": "markdown",
   "metadata": {},
   "source": [
    "Kind of meh"
   ]
  },
  {
   "cell_type": "markdown",
   "metadata": {},
   "source": [
    "## Backtranslation using BackTranslate (Google Translate)"
   ]
  },
  {
   "cell_type": "code",
   "execution_count": 6,
   "metadata": {},
   "outputs": [
    {
     "name": "stderr",
     "output_type": "stream",
     "text": [
      "[nltk_data] Downloading package punkt to\n",
      "[nltk_data]     /home/alvaro.barbero/nltk_data...\n",
      "[nltk_data]   Unzipping tokenizers/punkt.zip.\n"
     ]
    },
    {
     "name": "stdout",
     "output_type": "stream",
     "text": [
      "Hello\n"
     ]
    }
   ],
   "source": [
    "from BackTranslation import BackTranslation\n",
    "trans = BackTranslation()\n",
    "result = trans.translate('hello', src='en', tmp = 'es')\n",
    "print(result.result_text)\n",
    "# 'Hello there'"
   ]
  },
  {
   "cell_type": "code",
   "execution_count": 11,
   "metadata": {},
   "outputs": [
    {
     "name": "stdout",
     "output_type": "stream",
     "text": [
      "CPU times: user 20 ms, sys: 0 ns, total: 20 ms\n",
      "Wall time: 189 ms\n"
     ]
    }
   ],
   "source": [
    "%%time\n",
    "src_text = full[\"description\"][0]\n",
    "backtranslation = trans.translate(src_text, src='en', tmp = 'es')"
   ]
  },
  {
   "cell_type": "code",
   "execution_count": 15,
   "metadata": {},
   "outputs": [
    {
     "data": {
      "text/plain": [
       "'Chaqueta hecha de un tejido técnico con textura.Cuello alto y mangas largas.Bolsillos delanteros.Recortes acanalados.frente al frente.'"
      ]
     },
     "execution_count": 15,
     "metadata": {},
     "output_type": "execute_result"
    }
   ],
   "source": [
    "backtranslation.tran_text"
   ]
  },
  {
   "cell_type": "code",
   "execution_count": 10,
   "metadata": {},
   "outputs": [
    {
     "name": "stdout",
     "output_type": "stream",
     "text": [
      "jacket made of a technical fabric with texture. high collar and long sleeves. front pockets. ribbed trims. zip-up front.\n",
      "Jacket made of a technical fabric with tall texture and long sleeves. Front Checks.Recrupletes. Frente.\n"
     ]
    }
   ],
   "source": [
    "print(src_text)\n",
    "print(backtranslation.result_text)"
   ]
  },
  {
   "cell_type": "code",
   "execution_count": 20,
   "metadata": {},
   "outputs": [],
   "source": [
    "from time import sleep\n",
    "\n",
    "def backtranslate(texts, backtranslator, source_lang=\"en\", target_lang=\"es\"):\n",
    "    backtranslations = []\n",
    "    for text in texts:\n",
    "        try:\n",
    "            backtranslation = backtranslator.translate(text, src=source_lang, tmp=target_lang)\n",
    "            backtranslations.append(backtranslation.result_text)\n",
    "        except:\n",
    "            sleep(1)\n",
    "    return backtranslations"
   ]
  },
  {
   "cell_type": "code",
   "execution_count": 21,
   "metadata": {},
   "outputs": [
    {
     "name": "stdout",
     "output_type": "stream",
     "text": [
      "CPU times: user 144 ms, sys: 4 ms, total: 148 ms\n",
      "Wall time: 4.55 s\n"
     ]
    },
    {
     "data": {
      "text/plain": [
       "['Tote bag in a combination of colors. Externsion braided in a combination of materials. Shoulder corridor with a decorative stallion.Interior aligned with pocket and zip bag. Magnetic close.Height x Length x Width 26.3 x 38.5 x 14.5 cm10.3 x 15.1 x 5.7 \"',\n",
       " 'Cardigan knitted with a round neck. With long sleeve with fists with flyers, a front and corrugated ornaments with buttons.',\n",
       " 'Mercurred glass soap dish.',\n",
       " 'Relaxed adjustment pants made from a linen mix. With an elastic lace waist, front pockets and a rear pocket.',\n",
       " 'Cardigan with round neckline, long sleeves and buttons close.',\n",
       " 'Bermuda shorts in a relaxed shape with an elastic lace waist, side pockets and rear pocket.',\n",
       " 'V-neck with wide straps, an elastic waist and a hem with ruffles.',\n",
       " 'T-shirt with a round neckline, long sleeves and a front print with velvet detail.',\n",
       " 'Round neck cap with pleated balloon sleeves falling under the elbow and elastic ornaments.',\n",
       " 'Rubber water resistant boots.Available in black, in khaki and orange brown. Mate, decorativestrews on top and contrast with black-molded texture. Internal zip on the side to slide with ease.In the front and heel. Severel of the thick track. Rounded.']"
      ]
     },
     "execution_count": 21,
     "metadata": {},
     "output_type": "execute_result"
    }
   ],
   "source": [
    "%%time\n",
    "backtranslate(full[\"description\"][0:10], trans)"
   ]
  },
  {
   "cell_type": "code",
   "execution_count": 22,
   "metadata": {},
   "outputs": [
    {
     "data": {
      "text/plain": [
       "25291    tote bag in a combination of colours. braided ...\n",
       "5328     knit cardigan with a round neck. featuring lon...\n",
       "28974                          mercurised glass soap dish.\n",
       "10697    relaxed fit trousers made of a linen blend. fe...\n",
       "8656     cardigan with round neckline, long sleeves and...\n",
       "16606    relaxed fit bermuda shorts featuring an elasti...\n",
       "19297    v-neck top featuring wide straps, an elastic w...\n",
       "11892    t-shirt with a round neckline, long sleeves an...\n",
       "1856     round neck top featuring pleated balloon sleev...\n",
       "23616    rubberised water resistant boots. available in...\n",
       "Name: description, dtype: object"
      ]
     },
     "execution_count": 22,
     "metadata": {},
     "output_type": "execute_result"
    }
   ],
   "source": [
    "full[\"description\"][0:10]"
   ]
  },
  {
   "cell_type": "code",
   "execution_count": null,
   "metadata": {},
   "outputs": [],
   "source": []
  }
 ],
 "metadata": {
  "kernelspec": {
   "display_name": "Python 3",
   "language": "python",
   "name": "python3"
  },
  "language_info": {
   "codemirror_mode": {
    "name": "ipython",
    "version": 3
   },
   "file_extension": ".py",
   "mimetype": "text/x-python",
   "name": "python",
   "nbconvert_exporter": "python",
   "pygments_lexer": "ipython3",
   "version": "3.8.5"
  }
 },
 "nbformat": 4,
 "nbformat_minor": 4
}
